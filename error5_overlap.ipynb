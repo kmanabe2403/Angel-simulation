{
 "cells": [
  {
   "cell_type": "code",
   "execution_count": 3,
   "id": "50011c48",
   "metadata": {},
   "outputs": [],
   "source": [
    "#シンチがとったコインシデンスの数/1s\n",
    "import pandas as pd\n",
    "sf = pd.read_csv('angel_data.csv', header=None)\n",
    "df = pd.read_csv('curve_plot.csv', header=None)\n",
    "num = 1\n",
    "\n",
    "time = float(sf.at[num, 3])\n",
    "minute = time/60\n",
    "toukei = [int(sf.at[num, 8+i]) for i in range(5)]"
   ]
  },
  {
   "cell_type": "code",
   "execution_count": 4,
   "id": "99a5847e",
   "metadata": {},
   "outputs": [],
   "source": [
    "#overlapのシミュレーション\n",
    "import numpy as np\n",
    "N = 10000\n",
    "overlap_minute = [[] for _ in range(5)]\n",
    "\n",
    "for i in range(5): #シンチのペアごとに\n",
    "    for j in range(N): #N回シミュレーションして、\n",
    "        duration = 60  #秒、1分　<- ここを長くしすぎるととんでもない時間かかるので、1分にして後で直す\n",
    "        n_a = int(toukei[i]/minute)       # 信号Aの数\n",
    "        n_b = int(toukei[i]/minute)       # 信号Bの数\n",
    "        width_a = 100e-6   # パルスAの幅（秒）\n",
    "        width_b = 100e-6     # パルスBの幅（秒）\n",
    "\n",
    "        # 信号の開始時刻をランダムにサンプリング\n",
    "        start_times_a = np.random.uniform(0, duration, n_a)\n",
    "        start_times_b = np.random.uniform(0, duration, n_b)\n",
    "\n",
    "        # パルスの終了時刻を計算\n",
    "        end_times_a = start_times_a + width_a\n",
    "        end_times_b = start_times_b + width_b\n",
    "\n",
    "        # コインシデンスのカウント\n",
    "        coincidence_count = 0\n",
    "        for k in range(n_a):\n",
    "            a_start = start_times_a[k]\n",
    "            a_end = end_times_a[k]\n",
    "            \n",
    "            # B信号との重なりをチェック\n",
    "            overlaps = np.logical_and(start_times_b < a_end, end_times_b > a_start)\n",
    "            coincidence_count += np.count_nonzero(overlaps)\n",
    "        overlap_minute[i].append(coincidence_count)"
   ]
  },
  {
   "cell_type": "code",
   "execution_count": 5,
   "id": "30ecb8f1",
   "metadata": {},
   "outputs": [
    {
     "name": "stdout",
     "output_type": "stream",
     "text": [
      "[np.float64(0.024), np.float64(2.1599999999999997), np.float64(0.288), np.float64(0.624), np.float64(0.048)]\n",
      "[2.25140712945591e-05, 0.00017136057120190399, 6.036470341647453e-05, 0.00010436527847466132, 1.5213946117274169e-05]\n"
     ]
    }
   ],
   "source": [
    "#overlapの誤差の計算\n",
    "overlap_time = [np.average(overlap_minute[i])*minute for i in range(5)]\n",
    "print(overlap_time)\n",
    "\n",
    "error5_overlap = [float(e/d) for e,d in zip(overlap_time, toukei)]\n",
    "print(error5_overlap)"
   ]
  },
  {
   "cell_type": "code",
   "execution_count": 7,
   "id": "3c4ed192",
   "metadata": {},
   "outputs": [],
   "source": [
    "#errorの保存\n",
    "for i in range(5):\n",
    "    df.at[num, i+47] = error5_overlap[i]\n",
    "df.to_csv('curve_plot.csv', index=False, header=False)"
   ]
  }
 ],
 "metadata": {
  "kernelspec": {
   "display_name": "Python 3",
   "language": "python",
   "name": "python3"
  },
  "language_info": {
   "codemirror_mode": {
    "name": "ipython",
    "version": 3
   },
   "file_extension": ".py",
   "mimetype": "text/x-python",
   "name": "python",
   "nbconvert_exporter": "python",
   "pygments_lexer": "ipython3",
   "version": "3.13.2"
  }
 },
 "nbformat": 4,
 "nbformat_minor": 5
}
