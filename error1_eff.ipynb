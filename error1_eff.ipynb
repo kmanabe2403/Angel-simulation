{
 "cells": [
  {
   "cell_type": "code",
   "execution_count": 15,
   "id": "f381a48f",
   "metadata": {},
   "outputs": [],
   "source": [
    "num = 1"
   ]
  },
  {
   "cell_type": "code",
   "execution_count": 16,
   "id": "5ef5de12",
   "metadata": {},
   "outputs": [],
   "source": [
    "#シンチごとのefficiencyの測定値\n",
    "#p=確率\n",
    "#n=(基準の)回数\n",
    "import numpy as np\n",
    "p_ring1 = [0.757895, 0.814607, 0.708108, 0.839572, 0.681564, 0.718919, 0.712644, 0.726937]\n",
    "n_ring1 = [190, 178, 185, 187, 179, 185, 174, 271]\n",
    "\n",
    "p_ring2 = [0.879487, 0.879487, 0.874194, 0.905512]\n",
    "n_ring2 = [390, 390, 310, 381]\n",
    "\n",
    "p_tibi = 0.857651\n",
    "n_tibi = 281\n",
    "\n",
    "p_deka = [0.941909, 0.880851]\n",
    "n_deka = [482, 235]"
   ]
  },
  {
   "cell_type": "code",
   "execution_count": 17,
   "id": "7f93e993",
   "metadata": {},
   "outputs": [],
   "source": [
    "#それぞれのerror\n",
    "e_ring1 = [np.sqrt((p*(1-p)/n)) for p,n in zip(p_ring1, n_ring1)]\n",
    "e_ring2 = [np.sqrt((p*(1-p)/n)) for p,n in zip(p_ring2, n_ring2)]\n",
    "e_tibi = np.sqrt((p_tibi*(1-p_tibi)/n_tibi))\n",
    "e_deka = [np.sqrt((p*(1-p)/n)) for p,n in zip(p_deka, n_deka)]"
   ]
  },
  {
   "cell_type": "code",
   "execution_count": 18,
   "id": "f5c88d35",
   "metadata": {},
   "outputs": [],
   "source": [
    "#シンチごとの平均値と、その誤差(標準偏差のrms/N)の計算\n",
    "p2_ring1 = np.mean(p_ring1)\n",
    "e2_ring1 = np.sqrt(np.sum([e**2 for e in e_ring1]) / len(e_ring1)**2)\n",
    "\n",
    "p2_ring2 = np.mean(p_ring2)\n",
    "e2_ring2 = np.sqrt(np.sum([e**2 for e in e_ring2]) / len(e_ring2)**2)\n",
    "\n",
    "p2_tibi = p_tibi\n",
    "e2_tibi = e_tibi\n",
    "\n",
    "p2_deka = np.mean(p_deka)\n",
    "e2_deka = np.sqrt(np.sum([e**2 for e in e_deka]) / len(e_deka)**2)"
   ]
  },
  {
   "cell_type": "code",
   "execution_count": 19,
   "id": "75cd20d1",
   "metadata": {},
   "outputs": [],
   "source": [
    "#シンチのペアごとのefficiency\n",
    "eff_13 = p2_ring1 * p2_tibi\n",
    "eff_14 = p2_ring1 * p2_deka\n",
    "eff_23 = p2_ring2 * p2_tibi\n",
    "eff_24 = p2_ring2 * p2_deka\n",
    "eff_34 = p2_tibi  * p2_deka\n",
    "\n",
    "e_eff_13 = eff_13 * np.sqrt((e2_ring1/p2_ring1)**2 + (e2_tibi/p2_tibi)**2)\n",
    "e_eff_14 = eff_14 * np.sqrt((e2_ring1/p2_ring1)**2 + (e2_deka/p2_deka)**2)\n",
    "e_eff_23 = eff_23 * np.sqrt((e2_ring2/p2_ring2)**2 + (e2_tibi/p2_tibi)**2)\n",
    "e_eff_24 = eff_24 * np.sqrt((e2_ring2/p2_ring2)**2 + (e2_deka/p2_deka)**2)\n",
    "e_eff_34 = eff_34 * np.sqrt((e2_tibi /p2_tibi )**2 + (e2_deka/p2_deka)**2)"
   ]
  },
  {
   "cell_type": "code",
   "execution_count": 20,
   "id": "b8429c2e",
   "metadata": {},
   "outputs": [],
   "source": [
    "#リスト化\n",
    "eff = [eff_13, eff_14, eff_23, eff_24, eff_34]\n",
    "error1_eff = [e_eff_13, e_eff_14, e_eff_23, e_eff_24, e_eff_34]"
   ]
  },
  {
   "cell_type": "code",
   "execution_count": 22,
   "id": "a508db0f",
   "metadata": {},
   "outputs": [
    {
     "name": "stdout",
     "output_type": "stream",
     "text": [
      "[np.float64(0.63897636776825), np.float64(0.679006124935), np.float64(0.75873811017), np.float64(0.8062705446), np.float64(0.7816459683800001)]\n",
      "[np.float64(0.018208925146569792), np.float64(0.013409443094706415), np.float64(0.01979027216722829), np.float64(0.012957103907100908), np.float64(0.021537828299793674)]\n"
     ]
    }
   ],
   "source": [
    "#確認用\n",
    "print(eff)\n",
    "print(error1_eff)\n",
    "\n",
    "import pandas as pd\n",
    "df = pd.read_csv('curve_plot.csv', header=None)\n",
    "for i in range(5):\n",
    "    df.at[num, i+22] = error1_eff[i]\n",
    "df.to_csv('curve_plot.csv', index=False, header=False)"
   ]
  }
 ],
 "metadata": {
  "kernelspec": {
   "display_name": "Python 3",
   "language": "python",
   "name": "python3"
  },
  "language_info": {
   "codemirror_mode": {
    "name": "ipython",
    "version": 3
   },
   "file_extension": ".py",
   "mimetype": "text/x-python",
   "name": "python",
   "nbconvert_exporter": "python",
   "pygments_lexer": "ipython3",
   "version": "3.13.2"
  }
 },
 "nbformat": 4,
 "nbformat_minor": 5
}
