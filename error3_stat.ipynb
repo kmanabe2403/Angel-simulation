{
 "cells": [
  {
   "cell_type": "code",
   "execution_count": 2,
   "id": "366e2e67",
   "metadata": {},
   "outputs": [
    {
     "name": "stdout",
     "output_type": "stream",
     "text": [
      "[0.030628194591584446, 0.008906940988838943, 0.014477557274641898, 0.012932596368772909, 0.017803292133101258]\n"
     ]
    },
    {
     "name": "stderr",
     "output_type": "stream",
     "text": [
      "C:\\Users\\kmana\\AppData\\Local\\Temp\\ipykernel_24380\\2148229496.py:11: DeprecationWarning: Conversion of an array with ndim > 0 to a scalar is deprecated, and will error in future. Ensure you extract a single element from your array before performing this operation. (Deprecated NumPy 1.25.)\n",
      "  error3_stat = [float(np.sqrt(x)/x) for x in zip(toukei)]\n"
     ]
    }
   ],
   "source": [
    "import pandas as pd\n",
    "import numpy as np\n",
    "sf = pd.read_csv('angel_data.csv', header=None)\n",
    "df = pd.read_csv('curve_plot.csv', header=None)\n",
    "num = 1\n",
    "\n",
    "time = time = float(sf.at[num, 3])\n",
    "toukei = [int(sf.at[num, 8+i]) for i in range(5)]\n",
    "flux = [float(df.at[num, 12+i]) for i in range(5)]\n",
    "\n",
    "error3_stat = [float(np.sqrt(x)/x) for x in zip(toukei)]\n",
    "print(error3_stat)\n",
    "\n",
    "for i in range(5):\n",
    "    df.at[num, i+32] = error3_stat[i]\n",
    "df.to_csv('curve_plot.csv', index=False, header=False)"
   ]
  }
 ],
 "metadata": {
  "kernelspec": {
   "display_name": "Python 3",
   "language": "python",
   "name": "python3"
  },
  "language_info": {
   "codemirror_mode": {
    "name": "ipython",
    "version": 3
   },
   "file_extension": ".py",
   "mimetype": "text/x-python",
   "name": "python",
   "nbconvert_exporter": "python",
   "pygments_lexer": "ipython3",
   "version": "3.13.2"
  }
 },
 "nbformat": 4,
 "nbformat_minor": 5
}
