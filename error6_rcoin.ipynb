{
 "cells": [
  {
   "cell_type": "code",
   "execution_count": 4,
   "id": "ec224990",
   "metadata": {},
   "outputs": [],
   "source": [
    "#シンチの全カウントのデータ,1分あたり。 efficiency測定のときの記録から\n",
    "# sinci = [2351.747222, 1950.315605, 336.5333333, 336.2592593] ver2\n",
    "sinci = [1152.864046, 1386.804167, 195, 336.7457023] #ver1"
   ]
  },
  {
   "cell_type": "code",
   "execution_count": 5,
   "id": "d6e544ec",
   "metadata": {},
   "outputs": [],
   "source": [
    "#シンチがとったコインシデンスの数/1s\n",
    "import pandas as pd\n",
    "sf = pd.read_csv('angel_data.csv', header=None)\n",
    "df = pd.read_csv('curve_plot.csv', header=None)\n",
    "num = 1\n",
    "\n",
    "time = float(sf.at[num, 3])\n",
    "minute = time/60\n",
    "toukei = [int(sf.at[num, 8+i]) for i in range(5)]"
   ]
  },
  {
   "cell_type": "code",
   "execution_count": 6,
   "id": "737cb46c",
   "metadata": {},
   "outputs": [],
   "source": [
    "#random coincidenceのシミュレーション\n",
    "\n",
    "import numpy as np\n",
    "rcoin_minute = [[] for _ in range(5)]\n",
    "\n",
    "def random_coin(label, coin1, coin2):\n",
    "    N = 100\n",
    "    for j in range(N): #N回シミュレーションして、\n",
    "            duration = 60  #秒、1分　<- ここを長くしすぎるととんでもない時間かかるので、1分にして後で直す\n",
    "            n_a = int(sinci[coin1])       # 信号Aの数\n",
    "            n_b = int(sinci[coin2])       # 信号Bの数\n",
    "            width_a = 1e-6   # パルスAの幅（秒）\n",
    "            width_b = 1e-6     # パルスBの幅（秒）\n",
    "\n",
    "            # 信号の開始時刻をランダムにサンプリング\n",
    "            start_times_a = np.random.uniform(0, duration, n_a)\n",
    "            start_times_b = np.random.uniform(0, duration, n_b)\n",
    "\n",
    "            # パルスの終了時刻を計算\n",
    "            end_times_a = start_times_a + width_a\n",
    "            end_times_b = start_times_b + width_b\n",
    "\n",
    "            # コインシデンスのカウント\n",
    "            coincidence_count = 0\n",
    "            for k in range(n_a):\n",
    "                a_start = start_times_a[k]\n",
    "                a_end = end_times_a[k]\n",
    "                \n",
    "                # B信号との重なりをチェック\n",
    "                overlaps = np.logical_and(start_times_b < a_end, end_times_b > a_start)\n",
    "                coincidence_count += np.count_nonzero(overlaps)\n",
    "            rcoin_minute[label].append(coincidence_count)\n",
    "\n",
    "random_coin(0, 0, 2) #coin13\n",
    "random_coin(1, 0, 3) #coin14\n",
    "random_coin(2, 1, 2) #coin23\n",
    "random_coin(3, 1, 3) #coin24\n",
    "random_coin(4, 2, 3) #coin34   "
   ]
  },
  {
   "cell_type": "code",
   "execution_count": 7,
   "id": "77936d9d",
   "metadata": {},
   "outputs": [
    {
     "name": "stdout",
     "output_type": "stream",
     "text": [
      "[np.float64(4.8), np.float64(0.0), np.float64(2.4), np.float64(2.4), np.float64(0.0)]\n",
      "[0.00450281425891182, 0.0, 0.0005030391951372878, 0.00040140491721023583, 0.0]\n"
     ]
    }
   ],
   "source": [
    "#overlapの誤差の計算\n",
    "rcoin_time = [np.average(rcoin_minute[i])*minute for i in range(5)]\n",
    "print(rcoin_time)\n",
    "\n",
    "error6_rcoin = [float(e/d) for e,d in zip(rcoin_time, toukei)]\n",
    "print(error6_rcoin)"
   ]
  },
  {
   "cell_type": "code",
   "execution_count": 9,
   "id": "2925db59",
   "metadata": {},
   "outputs": [],
   "source": [
    "#errorの保存\n",
    "for i in range(5):\n",
    "    df.at[num, i+52] = error6_rcoin[i]\n",
    "df.to_csv('curve_plot.csv', index=False, header=False)"
   ]
  }
 ],
 "metadata": {
  "kernelspec": {
   "display_name": "Python 3",
   "language": "python",
   "name": "python3"
  },
  "language_info": {
   "codemirror_mode": {
    "name": "ipython",
    "version": 3
   },
   "file_extension": ".py",
   "mimetype": "text/x-python",
   "name": "python",
   "nbconvert_exporter": "python",
   "pygments_lexer": "ipython3",
   "version": "3.13.2"
  }
 },
 "nbformat": 4,
 "nbformat_minor": 5
}
